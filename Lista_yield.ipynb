{
 "cells": [
  {
   "cell_type": "markdown",
   "metadata": {
    "colab_type": "text",
    "id": "view-in-github"
   },
   "source": [
    "<a href=\"https://colab.research.google.com/github/AlexandreMinato/Investimentos_FII/blob/main/Lista_yeld.ipynb\" target=\"_parent\"><img src=\"https://colab.research.google.com/assets/colab-badge.svg\" alt=\"Open In Colab\"/></a>"
   ]
  },
  {
   "cell_type": "code",
   "execution_count": 73,
   "metadata": {
    "id": "7T9l-U-GENO_"
   },
   "outputs": [],
   "source": [
    "import requests\n",
    "import numpy as np\n",
    "import pandas as pd\n",
    "import matplotlib.pyplot as plt\n",
    "from datetime import date, datetime"
   ]
  },
  {
   "cell_type": "code",
   "execution_count": 74,
   "metadata": {
    "id": "bsn6xaReMC2V"
   },
   "outputs": [],
   "source": [
    "#@title Consulta dividendos\n",
    "#@markdown Formulario de consulta.\n",
    "\n",
    "papel = 'BRCR11'  #@param"
   ]
  },
  {
   "cell_type": "markdown",
   "metadata": {
    "id": "jsiADiGDM2oc"
   },
   "source": [
    "# Captura de informação"
   ]
  },
  {
   "cell_type": "code",
   "execution_count": 103,
   "metadata": {
    "colab": {
     "base_uri": "https://localhost:8080/"
    },
    "id": "RyFzDkCNEQLk",
    "outputId": "6ad89b58-fa3a-42c7-cddc-33bd67ec0483"
   },
   "outputs": [
    {
     "name": "stdout",
     "output_type": "stream",
     "text": [
      "<class 'pandas.core.frame.DataFrame'>\n",
      "RangeIndex: 10 entries, 0 to 9\n",
      "Data columns (total 5 columns):\n",
      " #   Column         Non-Null Count  Dtype \n",
      "---  ------         --------------  ----- \n",
      " 0   DataBase       10 non-null     object\n",
      " 1   DataPagamento  10 non-null     object\n",
      " 2   CotaçãoBase    10 non-null     object\n",
      " 3   DY             10 non-null     object\n",
      " 4   Rendimento     10 non-null     object\n",
      "dtypes: object(5)\n",
      "memory usage: 528.0+ bytes\n"
     ]
    }
   ],
   "source": [
    "url = 'https://fiis.com.br/' + papel\n",
    "\n",
    "dados = requests.get(url,  headers={'User-Agent': 'Mozilla/5.0'})\n",
    "# last-revenues--table\n",
    "list_obj = pd.read_html(dados.text, attrs={'id': 'last-revenues--table'})\n",
    "df = list_obj[0]"
   ]
  },
  {
   "cell_type": "code",
   "execution_count": 104,
   "metadata": {
    "id": "ZubjjfJVLPHM"
   },
   "outputs": [],
   "source": [
    "df.columns = ['data_base', 'data_pagamento', 'cotacao_base', 'div_yield', 'rendimento']  "
   ]
  },
  {
   "cell_type": "code",
   "execution_count": 83,
   "metadata": {
    "colab": {
     "base_uri": "https://localhost:8080/",
     "height": 362
    },
    "id": "0WuaVs3tEYU5",
    "outputId": "76d2bba6-091d-40b4-ac3b-e8d45a5fd183"
   },
   "outputs": [
    {
     "data": {
      "text/html": [
       "<div>\n",
       "<style scoped>\n",
       "    .dataframe tbody tr th:only-of-type {\n",
       "        vertical-align: middle;\n",
       "    }\n",
       "\n",
       "    .dataframe tbody tr th {\n",
       "        vertical-align: top;\n",
       "    }\n",
       "\n",
       "    .dataframe thead th {\n",
       "        text-align: right;\n",
       "    }\n",
       "</style>\n",
       "<table border=\"1\" class=\"dataframe\">\n",
       "  <thead>\n",
       "    <tr style=\"text-align: right;\">\n",
       "      <th></th>\n",
       "      <th>data_base</th>\n",
       "      <th>data_pagamento</th>\n",
       "      <th>cotacao_base</th>\n",
       "      <th>div_yeld</th>\n",
       "      <th>rendimento</th>\n",
       "    </tr>\n",
       "  </thead>\n",
       "  <tbody>\n",
       "    <tr>\n",
       "      <th>0</th>\n",
       "      <td>2021-05-07</td>\n",
       "      <td>2021-05-14</td>\n",
       "      <td>84.85</td>\n",
       "      <td>0.0054</td>\n",
       "      <td>0.46</td>\n",
       "    </tr>\n",
       "    <tr>\n",
       "      <th>1</th>\n",
       "      <td>2021-04-08</td>\n",
       "      <td>2021-04-15</td>\n",
       "      <td>84.63</td>\n",
       "      <td>0.0054</td>\n",
       "      <td>0.46</td>\n",
       "    </tr>\n",
       "    <tr>\n",
       "      <th>2</th>\n",
       "      <td>2021-03-05</td>\n",
       "      <td>2021-03-12</td>\n",
       "      <td>84.99</td>\n",
       "      <td>0.0056</td>\n",
       "      <td>0.48</td>\n",
       "    </tr>\n",
       "    <tr>\n",
       "      <th>3</th>\n",
       "      <td>2021-02-05</td>\n",
       "      <td>2021-02-12</td>\n",
       "      <td>89.58</td>\n",
       "      <td>0.0055</td>\n",
       "      <td>0.49</td>\n",
       "    </tr>\n",
       "    <tr>\n",
       "      <th>4</th>\n",
       "      <td>2021-01-08</td>\n",
       "      <td>2021-01-15</td>\n",
       "      <td>91.80</td>\n",
       "      <td>0.0054</td>\n",
       "      <td>0.50</td>\n",
       "    </tr>\n",
       "    <tr>\n",
       "      <th>5</th>\n",
       "      <td>2020-12-07</td>\n",
       "      <td>2020-12-14</td>\n",
       "      <td>87.00</td>\n",
       "      <td>0.0057</td>\n",
       "      <td>0.50</td>\n",
       "    </tr>\n",
       "    <tr>\n",
       "      <th>6</th>\n",
       "      <td>2020-11-09</td>\n",
       "      <td>2020-11-16</td>\n",
       "      <td>88.41</td>\n",
       "      <td>0.0053</td>\n",
       "      <td>0.47</td>\n",
       "    </tr>\n",
       "    <tr>\n",
       "      <th>7</th>\n",
       "      <td>2020-10-07</td>\n",
       "      <td>2020-10-15</td>\n",
       "      <td>91.50</td>\n",
       "      <td>0.0049</td>\n",
       "      <td>0.45</td>\n",
       "    </tr>\n",
       "    <tr>\n",
       "      <th>8</th>\n",
       "      <td>2020-09-08</td>\n",
       "      <td>2020-09-15</td>\n",
       "      <td>90.80</td>\n",
       "      <td>0.0051</td>\n",
       "      <td>0.46</td>\n",
       "    </tr>\n",
       "    <tr>\n",
       "      <th>9</th>\n",
       "      <td>2020-08-07</td>\n",
       "      <td>2020-08-14</td>\n",
       "      <td>90.20</td>\n",
       "      <td>0.0051</td>\n",
       "      <td>0.46</td>\n",
       "    </tr>\n",
       "  </tbody>\n",
       "</table>\n",
       "</div>"
      ],
      "text/plain": [
       "   data_base data_pagamento  cotacao_base  div_yeld  rendimento\n",
       "0 2021-05-07     2021-05-14         84.85    0.0054        0.46\n",
       "1 2021-04-08     2021-04-15         84.63    0.0054        0.46\n",
       "2 2021-03-05     2021-03-12         84.99    0.0056        0.48\n",
       "3 2021-02-05     2021-02-12         89.58    0.0055        0.49\n",
       "4 2021-01-08     2021-01-15         91.80    0.0054        0.50\n",
       "5 2020-12-07     2020-12-14         87.00    0.0057        0.50\n",
       "6 2020-11-09     2020-11-16         88.41    0.0053        0.47\n",
       "7 2020-10-07     2020-10-15         91.50    0.0049        0.45\n",
       "8 2020-09-08     2020-09-15         90.80    0.0051        0.46\n",
       "9 2020-08-07     2020-08-14         90.20    0.0051        0.46"
      ]
     },
     "execution_count": 83,
     "metadata": {
      "tags": []
     },
     "output_type": "execute_result"
    }
   ],
   "source": [
    "df"
   ]
  },
  {
   "cell_type": "code",
   "execution_count": 105,
   "metadata": {
    "id": "D8F4mdWKE2Gv"
   },
   "outputs": [],
   "source": [
    "def identificar_conteudo_colunas(df, item):\n",
    "    return [df[column].name for column in df if df[column].astype(str).str.contains(item).any()]"
   ]
  },
  {
   "cell_type": "code",
   "execution_count": 106,
   "metadata": {
    "id": "ndDXrMQKE3WO"
   },
   "outputs": [],
   "source": [
    "#Converter financeiro\n",
    "coluna_monetario = identificar_conteudo_colunas(df, '\\$')\n",
    "\n",
    "for column_name in coluna_monetario:\n",
    "    df[column_name] = df[column_name].str.replace('.', '')\n",
    "    df[column_name] = df[column_name].str.replace(',', '.')\n",
    "    df[column_name] = df[column_name].str.replace('[R\\$ ,]', '', regex=True).astype(float)"
   ]
  },
  {
   "cell_type": "code",
   "execution_count": 107,
   "metadata": {
    "id": "04C5tkVuFEPN"
   },
   "outputs": [],
   "source": [
    "# Converter as colunas de percentual em numericas\n",
    "coluna_percentual = identificar_conteudo_colunas(df, '\\%')\n",
    "for column_name in coluna_percentual:\n",
    "    df[column_name] = df[column_name].str.replace(',', '.')\n",
    "    df[column_name] = df[column_name].str.replace('[%,]', '', regex=True).astype(float)\n",
    "    df[column_name] = df[column_name]/100"
   ]
  },
  {
   "cell_type": "code",
   "execution_count": 108,
   "metadata": {
    "id": "GHychmW6Fc0c"
   },
   "outputs": [],
   "source": [
    "#Converter colunas de datas\n",
    "coluna_data = identificar_conteudo_colunas(df, '\\/')\n",
    "\n",
    "for column_name in coluna_data:\n",
    "    df[column_name] = df[column_name].apply(lambda x: datetime.strptime(x, '%d/%m/%y'))\n"
   ]
  },
  {
   "cell_type": "code",
   "execution_count": 111,
   "metadata": {
    "colab": {
     "base_uri": "https://localhost:8080/",
     "height": 362
    },
    "id": "-RjCU3XRGO7r",
    "outputId": "eb144203-917d-4684-e85d-d9911a573ef7"
   },
   "outputs": [
    {
     "data": {
      "text/html": [
       "<div>\n",
       "<style scoped>\n",
       "    .dataframe tbody tr th:only-of-type {\n",
       "        vertical-align: middle;\n",
       "    }\n",
       "\n",
       "    .dataframe tbody tr th {\n",
       "        vertical-align: top;\n",
       "    }\n",
       "\n",
       "    .dataframe thead th {\n",
       "        text-align: right;\n",
       "    }\n",
       "</style>\n",
       "<table border=\"1\" class=\"dataframe\">\n",
       "  <thead>\n",
       "    <tr style=\"text-align: right;\">\n",
       "      <th></th>\n",
       "      <th>data_base</th>\n",
       "      <th>data_pagamento</th>\n",
       "      <th>cotacao_base</th>\n",
       "      <th>div_yeld</th>\n",
       "      <th>rendimento</th>\n",
       "    </tr>\n",
       "  </thead>\n",
       "  <tbody>\n",
       "    <tr>\n",
       "      <th>0</th>\n",
       "      <td>2021-05-07</td>\n",
       "      <td>2021-05-14</td>\n",
       "      <td>84.85</td>\n",
       "      <td>0.0054</td>\n",
       "      <td>0.46</td>\n",
       "    </tr>\n",
       "    <tr>\n",
       "      <th>1</th>\n",
       "      <td>2021-04-08</td>\n",
       "      <td>2021-04-15</td>\n",
       "      <td>84.63</td>\n",
       "      <td>0.0054</td>\n",
       "      <td>0.46</td>\n",
       "    </tr>\n",
       "    <tr>\n",
       "      <th>2</th>\n",
       "      <td>2021-03-05</td>\n",
       "      <td>2021-03-12</td>\n",
       "      <td>84.99</td>\n",
       "      <td>0.0056</td>\n",
       "      <td>0.48</td>\n",
       "    </tr>\n",
       "    <tr>\n",
       "      <th>3</th>\n",
       "      <td>2021-02-05</td>\n",
       "      <td>2021-02-12</td>\n",
       "      <td>89.58</td>\n",
       "      <td>0.0055</td>\n",
       "      <td>0.49</td>\n",
       "    </tr>\n",
       "    <tr>\n",
       "      <th>4</th>\n",
       "      <td>2021-01-08</td>\n",
       "      <td>2021-01-15</td>\n",
       "      <td>91.80</td>\n",
       "      <td>0.0054</td>\n",
       "      <td>0.50</td>\n",
       "    </tr>\n",
       "    <tr>\n",
       "      <th>5</th>\n",
       "      <td>2020-12-07</td>\n",
       "      <td>2020-12-14</td>\n",
       "      <td>87.00</td>\n",
       "      <td>0.0057</td>\n",
       "      <td>0.50</td>\n",
       "    </tr>\n",
       "    <tr>\n",
       "      <th>6</th>\n",
       "      <td>2020-11-09</td>\n",
       "      <td>2020-11-16</td>\n",
       "      <td>88.41</td>\n",
       "      <td>0.0053</td>\n",
       "      <td>0.47</td>\n",
       "    </tr>\n",
       "    <tr>\n",
       "      <th>7</th>\n",
       "      <td>2020-10-07</td>\n",
       "      <td>2020-10-15</td>\n",
       "      <td>91.50</td>\n",
       "      <td>0.0049</td>\n",
       "      <td>0.45</td>\n",
       "    </tr>\n",
       "    <tr>\n",
       "      <th>8</th>\n",
       "      <td>2020-09-08</td>\n",
       "      <td>2020-09-15</td>\n",
       "      <td>90.80</td>\n",
       "      <td>0.0051</td>\n",
       "      <td>0.46</td>\n",
       "    </tr>\n",
       "    <tr>\n",
       "      <th>9</th>\n",
       "      <td>2020-08-07</td>\n",
       "      <td>2020-08-14</td>\n",
       "      <td>90.20</td>\n",
       "      <td>0.0051</td>\n",
       "      <td>0.46</td>\n",
       "    </tr>\n",
       "  </tbody>\n",
       "</table>\n",
       "</div>"
      ],
      "text/plain": [
       "   data_base data_pagamento  cotacao_base  div_yeld  rendimento\n",
       "0 2021-05-07     2021-05-14         84.85    0.0054        0.46\n",
       "1 2021-04-08     2021-04-15         84.63    0.0054        0.46\n",
       "2 2021-03-05     2021-03-12         84.99    0.0056        0.48\n",
       "3 2021-02-05     2021-02-12         89.58    0.0055        0.49\n",
       "4 2021-01-08     2021-01-15         91.80    0.0054        0.50\n",
       "5 2020-12-07     2020-12-14         87.00    0.0057        0.50\n",
       "6 2020-11-09     2020-11-16         88.41    0.0053        0.47\n",
       "7 2020-10-07     2020-10-15         91.50    0.0049        0.45\n",
       "8 2020-09-08     2020-09-15         90.80    0.0051        0.46\n",
       "9 2020-08-07     2020-08-14         90.20    0.0051        0.46"
      ]
     },
     "execution_count": 111,
     "metadata": {
      "tags": []
     },
     "output_type": "execute_result"
    }
   ],
   "source": [
    "df"
   ]
  },
  {
   "cell_type": "code",
   "execution_count": null,
   "metadata": {
    "id": "sUg1gIsQRiv7"
   },
   "outputs": [],
   "source": []
  }
 ],
 "metadata": {
  "colab": {
   "authorship_tag": "ABX9TyNwtmA4PB62mSnKyuhGXxvV",
   "include_colab_link": true,
   "name": "Lista_yeld.ipynb",
   "provenance": []
  },
  "kernelspec": {
   "display_name": "Python 3",
   "language": "python",
   "name": "python3"
  },
  "language_info": {
   "codemirror_mode": {
    "name": "ipython",
    "version": 3
   },
   "file_extension": ".py",
   "mimetype": "text/x-python",
   "name": "python",
   "nbconvert_exporter": "python",
   "pygments_lexer": "ipython3",
   "version": "3.9.4"
  }
 },
 "nbformat": 4,
 "nbformat_minor": 1
}
