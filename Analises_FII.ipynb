{
  "nbformat": 4,
  "nbformat_minor": 0,
  "metadata": {
    "colab": {
      "name": "Analises_FII.ipynb",
      "provenance": [],
      "collapsed_sections": [],
      "include_colab_link": true
    },
    "kernelspec": {
      "name": "python3",
      "display_name": "Python 3"
    }
  },
  "cells": [
    {
      "cell_type": "markdown",
      "metadata": {
        "id": "view-in-github",
        "colab_type": "text"
      },
      "source": [
        "<a href=\"https://colab.research.google.com/github/AlexandreMinato/Investimentos_FII/blob/main/Analises_FII.ipynb\" target=\"_parent\"><img src=\"https://colab.research.google.com/assets/colab-badge.svg\" alt=\"Open In Colab\"/></a>"
      ]
    },
    {
      "cell_type": "code",
      "metadata": {
        "id": "6DTg-35ADh9-"
      },
      "source": [
        "import datetime\n",
        "import logging\n",
        "import requests\n",
        "import numpy as np\n",
        "import pandas as pd\n",
        "import pytz"
      ],
      "execution_count": 182,
      "outputs": []
    },
    {
      "cell_type": "markdown",
      "metadata": {
        "id": "JHeR7WNxR1L8"
      },
      "source": [
        "# Capturando os dados"
      ]
    },
    {
      "cell_type": "code",
      "metadata": {
        "id": "kONU85UaDrJj"
      },
      "source": [
        "url = 'https://www.fundsexplorer.com.br/ranking'\n",
        "dados = requests.get(url,  headers={'User-Agent': 'Mozilla/5.0'})\n",
        "list_obj = pd.read_html(dados.text, attrs={'id': 'table-ranking'})\n",
        "df = list_obj[0]"
      ],
      "execution_count": 184,
      "outputs": []
    },
    {
      "cell_type": "code",
      "metadata": {
        "id": "sEApqRgkS6kn"
      },
      "source": [
        "# redefinindo nome das colunas\n",
        "df.columns = ['ativo', 'setor', 'preco', 'liquidez_dia', 'dividendo', 'yeld', 'yeld_3m_acululado', 'yeld_6m_acululado', 'yeld_12m_acululado', 'yeld_3m_media', 'yeld_6m_media', 'yeld_12m_media', 'yeld_ano', 'variacao_preco', 'rent_periodo', 'rent_acumulada', 'patrimonio_liq', 'vpa', 'p_vpa', 'dy_patrimonial', 'variacao_patrimonial', 'rent_patr_periodo', 'rent_acumulada_periodo', 'vacancia_fisica', 'vacancia_financeira', 'quantidade_ativos']"
      ],
      "execution_count": 185,
      "outputs": []
    },
    {
      "cell_type": "code",
      "metadata": {
        "colab": {
          "base_uri": "https://localhost:8080/",
          "height": 312
        },
        "id": "9MWFDKeuaohE",
        "outputId": "a0f4d46e-fd18-442c-de67-efdf0d1e964c"
      },
      "source": [
        "df.head()"
      ],
      "execution_count": 126,
      "outputs": [
        {
          "output_type": "execute_result",
          "data": {
            "text/html": [
              "<div>\n",
              "<style scoped>\n",
              "    .dataframe tbody tr th:only-of-type {\n",
              "        vertical-align: middle;\n",
              "    }\n",
              "\n",
              "    .dataframe tbody tr th {\n",
              "        vertical-align: top;\n",
              "    }\n",
              "\n",
              "    .dataframe thead th {\n",
              "        text-align: right;\n",
              "    }\n",
              "</style>\n",
              "<table border=\"1\" class=\"dataframe\">\n",
              "  <thead>\n",
              "    <tr style=\"text-align: right;\">\n",
              "      <th></th>\n",
              "      <th>ativo</th>\n",
              "      <th>setor</th>\n",
              "      <th>preco</th>\n",
              "      <th>liquidez_dia</th>\n",
              "      <th>dividendo</th>\n",
              "      <th>yeld</th>\n",
              "      <th>yeld_3m_acululado</th>\n",
              "      <th>yeld_6m_acululado</th>\n",
              "      <th>yeld_12m_acululado</th>\n",
              "      <th>yeld_3m_media</th>\n",
              "      <th>yeld_6m_media</th>\n",
              "      <th>yeld_12m_media</th>\n",
              "      <th>yeld_ano</th>\n",
              "      <th>variacao_preco</th>\n",
              "      <th>rent_periodo</th>\n",
              "      <th>rent_acumulada</th>\n",
              "      <th>patrimonio_liq</th>\n",
              "      <th>vpa</th>\n",
              "      <th>p_vpa</th>\n",
              "      <th>dy_patrimonial</th>\n",
              "      <th>variacao_patrimonial</th>\n",
              "      <th>rent_patr_periodo</th>\n",
              "      <th>rent_acumulada_periodo</th>\n",
              "      <th>vacancia_fisica</th>\n",
              "      <th>vacancia_financeira</th>\n",
              "      <th>quantidade_ativos</th>\n",
              "    </tr>\n",
              "  </thead>\n",
              "  <tbody>\n",
              "    <tr>\n",
              "      <th>0</th>\n",
              "      <td>FIVN11</td>\n",
              "      <td>Shoppings</td>\n",
              "      <td>R$ 3,09</td>\n",
              "      <td>31730.0</td>\n",
              "      <td>R$ 0,00</td>\n",
              "      <td>0,00%</td>\n",
              "      <td>0,00%</td>\n",
              "      <td>0,00%</td>\n",
              "      <td>0,00%</td>\n",
              "      <td>0,00%</td>\n",
              "      <td>0,00%</td>\n",
              "      <td>0,00%</td>\n",
              "      <td>NaN</td>\n",
              "      <td>0,00%</td>\n",
              "      <td>0,00%</td>\n",
              "      <td>0,00%</td>\n",
              "      <td>R$ 64.832.865,32</td>\n",
              "      <td>R$ 6,89</td>\n",
              "      <td>45.0</td>\n",
              "      <td>NaN</td>\n",
              "      <td>NaN</td>\n",
              "      <td>NaN</td>\n",
              "      <td>NaN</td>\n",
              "      <td>56,00%</td>\n",
              "      <td>NaN</td>\n",
              "      <td>1</td>\n",
              "    </tr>\n",
              "    <tr>\n",
              "      <th>1</th>\n",
              "      <td>BZLI11</td>\n",
              "      <td>Títulos e Val. Mob.</td>\n",
              "      <td>R$ 14,70</td>\n",
              "      <td>44041.0</td>\n",
              "      <td>R$ 0,00</td>\n",
              "      <td>0,00%</td>\n",
              "      <td>0,00%</td>\n",
              "      <td>0,00%</td>\n",
              "      <td>0,00%</td>\n",
              "      <td>0,00%</td>\n",
              "      <td>0,00%</td>\n",
              "      <td>0,00%</td>\n",
              "      <td>0,00%</td>\n",
              "      <td>0,68%</td>\n",
              "      <td>0,68%</td>\n",
              "      <td>1,14%</td>\n",
              "      <td>R$ 439.665.897,40</td>\n",
              "      <td>R$ 11,45</td>\n",
              "      <td>128.0</td>\n",
              "      <td>NaN</td>\n",
              "      <td>NaN</td>\n",
              "      <td>NaN</td>\n",
              "      <td>NaN</td>\n",
              "      <td>NaN</td>\n",
              "      <td>NaN</td>\n",
              "      <td>0</td>\n",
              "    </tr>\n",
              "    <tr>\n",
              "      <th>2</th>\n",
              "      <td>XTED11</td>\n",
              "      <td>Lajes Corporativas</td>\n",
              "      <td>R$ 6,88</td>\n",
              "      <td>993.0</td>\n",
              "      <td>R$ 0,00</td>\n",
              "      <td>0,00%</td>\n",
              "      <td>0,00%</td>\n",
              "      <td>0,00%</td>\n",
              "      <td>0,00%</td>\n",
              "      <td>0,00%</td>\n",
              "      <td>0,00%</td>\n",
              "      <td>0,00%</td>\n",
              "      <td>0,00%</td>\n",
              "      <td>1,10%</td>\n",
              "      <td>1,10%</td>\n",
              "      <td>-37,83%</td>\n",
              "      <td>R$ 25.472.636,57</td>\n",
              "      <td>R$ 14,21</td>\n",
              "      <td>48.0</td>\n",
              "      <td>NaN</td>\n",
              "      <td>NaN</td>\n",
              "      <td>NaN</td>\n",
              "      <td>NaN</td>\n",
              "      <td>0,00%</td>\n",
              "      <td>100,00%</td>\n",
              "      <td>1</td>\n",
              "    </tr>\n",
              "    <tr>\n",
              "      <th>3</th>\n",
              "      <td>ALMI11</td>\n",
              "      <td>Lajes Corporativas</td>\n",
              "      <td>R$ 1.180,00</td>\n",
              "      <td>31.0</td>\n",
              "      <td>R$ 0,00</td>\n",
              "      <td>0,00%</td>\n",
              "      <td>0,00%</td>\n",
              "      <td>0,00%</td>\n",
              "      <td>0,00%</td>\n",
              "      <td>0,00%</td>\n",
              "      <td>0,00%</td>\n",
              "      <td>0,00%</td>\n",
              "      <td>0,00%</td>\n",
              "      <td>2,27%</td>\n",
              "      <td>2,27%</td>\n",
              "      <td>-28,29%</td>\n",
              "      <td>R$ 229.423.903,28</td>\n",
              "      <td>R$ 2.063,59</td>\n",
              "      <td>57.0</td>\n",
              "      <td>NaN</td>\n",
              "      <td>NaN</td>\n",
              "      <td>NaN</td>\n",
              "      <td>NaN</td>\n",
              "      <td>68,15%</td>\n",
              "      <td>NaN</td>\n",
              "      <td>1</td>\n",
              "    </tr>\n",
              "    <tr>\n",
              "      <th>4</th>\n",
              "      <td>DOMC11</td>\n",
              "      <td>Lajes Corporativas</td>\n",
              "      <td>R$ 439,00</td>\n",
              "      <td>42.0</td>\n",
              "      <td>R$ 0,00</td>\n",
              "      <td>0,00%</td>\n",
              "      <td>0,00%</td>\n",
              "      <td>0,00%</td>\n",
              "      <td>0,00%</td>\n",
              "      <td>0,00%</td>\n",
              "      <td>0,00%</td>\n",
              "      <td>0,00%</td>\n",
              "      <td>0,00%</td>\n",
              "      <td>4,35%</td>\n",
              "      <td>4,35%</td>\n",
              "      <td>-10,00%</td>\n",
              "      <td>R$ 264.351.778,61</td>\n",
              "      <td>R$ 108,17</td>\n",
              "      <td>406.0</td>\n",
              "      <td>NaN</td>\n",
              "      <td>NaN</td>\n",
              "      <td>NaN</td>\n",
              "      <td>NaN</td>\n",
              "      <td>23,44%</td>\n",
              "      <td>NaN</td>\n",
              "      <td>1</td>\n",
              "    </tr>\n",
              "  </tbody>\n",
              "</table>\n",
              "</div>"
            ],
            "text/plain": [
              "    ativo                setor  ... vacancia_financeira  quantidade_ativos\n",
              "0  FIVN11            Shoppings  ...                 NaN                  1\n",
              "1  BZLI11  Títulos e Val. Mob.  ...                 NaN                  0\n",
              "2  XTED11   Lajes Corporativas  ...             100,00%                  1\n",
              "3  ALMI11   Lajes Corporativas  ...                 NaN                  1\n",
              "4  DOMC11   Lajes Corporativas  ...                 NaN                  1\n",
              "\n",
              "[5 rows x 26 columns]"
            ]
          },
          "metadata": {
            "tags": []
          },
          "execution_count": 126
        }
      ]
    },
    {
      "cell_type": "markdown",
      "metadata": {
        "id": "JRvo9nvJd12E"
      },
      "source": [
        "#Normalizando as colunas\n",
        "\n"
      ]
    },
    {
      "cell_type": "code",
      "metadata": {
        "id": "NiVeaYr4XHOz"
      },
      "source": [
        "def identificar_conteudo_colunas(df, item):\n",
        "    \n",
        "    return [df[column].name for column in df if df[column].astype(str).str.contains(item).any()]"
      ],
      "execution_count": 127,
      "outputs": []
    },
    {
      "cell_type": "code",
      "metadata": {
        "id": "8rwwtoNNeyrE"
      },
      "source": [
        "#Converter financeiro\n",
        "coluna_monetario = identificar_conteudo_colunas(df, '\\$')\n",
        "\n",
        "for column_name in coluna_monetario:\n",
        "    df[column_name] = df[column_name].str.replace('.', '')\n",
        "    df[column_name] = df[column_name].str.replace(',', '.')\n",
        "    df[column_name] = df[column_name].str.replace('[R\\$ ,]', '', regex=True).astype(float)"
      ],
      "execution_count": 128,
      "outputs": []
    },
    {
      "cell_type": "code",
      "metadata": {
        "id": "WDCSsUBDiROz"
      },
      "source": [
        "# Converter as colunas de percentual em numericas\n",
        "coluna_percentual = identificar_conteudo_colunas(df, '\\%')\n",
        "for column_name in coluna_percentual:\n",
        "    df[column_name] = df[column_name].str.replace(',', '.')\n",
        "    df[column_name] = df[column_name].str.replace('[%,]', '', regex=True).astype(float)\n",
        "    df[column_name] = df[column_name]/100"
      ],
      "execution_count": 129,
      "outputs": []
    },
    {
      "cell_type": "code",
      "metadata": {
        "id": "Y1ka9MONdoUf"
      },
      "source": [
        "# Corrige o valor patrimonial\n",
        "df['p_vpa'] = df['p_vpa']/100"
      ],
      "execution_count": 130,
      "outputs": []
    },
    {
      "cell_type": "code",
      "metadata": {
        "id": "Fe3tZ-zTkCBw"
      },
      "source": [
        "# Normaliza o setor\n",
        "df['setor'] = df['setor'].str.replace('\\s+', '_')\n",
        "df['setor'] = df['setor'].str.replace(r'[^\\w\\s]+', '_')\n",
        "df['setor'] = df['setor'].str.lower()\n",
        "df['setor'] = df['setor'].str.normalize('NFKD').str.encode('ascii', errors='ignore').str.decode('utf-8')"
      ],
      "execution_count": 131,
      "outputs": []
    },
    {
      "cell_type": "markdown",
      "metadata": {
        "id": "TARebIHVz0Ex"
      },
      "source": [
        "# Iniciando as analises\n"
      ]
    },
    {
      "cell_type": "code",
      "metadata": {
        "id": "LEp-p6hIiBg_",
        "colab": {
          "base_uri": "https://localhost:8080/"
        },
        "outputId": "9494ee71-d74e-4b41-bbb0-63a6e5f8bf04"
      },
      "source": [
        "df.setor.unique()"
      ],
      "execution_count": 132,
      "outputs": [
        {
          "output_type": "execute_result",
          "data": {
            "text/plain": [
              "array(['shoppings', 'titulos_e_val__mob_', 'lajes_corporativas',\n",
              "       'hibrido', 'outros', 'hotel', 'residencial', 'logistica',\n",
              "       'hospital'], dtype=object)"
            ]
          },
          "metadata": {
            "tags": []
          },
          "execution_count": 132
        }
      ]
    },
    {
      "cell_type": "code",
      "metadata": {
        "id": "qA064rABlJij",
        "colab": {
          "base_uri": "https://localhost:8080/"
        },
        "outputId": "d36877e6-45e4-4022-cc64-2cc9220a8cf8"
      },
      "source": [
        "df.ativo.nunique()"
      ],
      "execution_count": 133,
      "outputs": [
        {
          "output_type": "execute_result",
          "data": {
            "text/plain": [
              "238"
            ]
          },
          "metadata": {
            "tags": []
          },
          "execution_count": 133
        }
      ]
    },
    {
      "cell_type": "code",
      "metadata": {
        "id": "V7NOVuK4mO_M",
        "colab": {
          "base_uri": "https://localhost:8080/",
          "height": 100
        },
        "outputId": "75adf117-336d-4ce3-eb46-a190f08e22c7"
      },
      "source": [
        "# Convert p/vpa to the correct base\n",
        "df['p_vpa'] = df['p_vpa']/100\n",
        "# Checking if is it correct\n",
        "df[df['ativo'] == 'VRTA11']"
      ],
      "execution_count": 134,
      "outputs": [
        {
          "output_type": "execute_result",
          "data": {
            "text/html": [
              "<div>\n",
              "<style scoped>\n",
              "    .dataframe tbody tr th:only-of-type {\n",
              "        vertical-align: middle;\n",
              "    }\n",
              "\n",
              "    .dataframe tbody tr th {\n",
              "        vertical-align: top;\n",
              "    }\n",
              "\n",
              "    .dataframe thead th {\n",
              "        text-align: right;\n",
              "    }\n",
              "</style>\n",
              "<table border=\"1\" class=\"dataframe\">\n",
              "  <thead>\n",
              "    <tr style=\"text-align: right;\">\n",
              "      <th></th>\n",
              "      <th>ativo</th>\n",
              "      <th>setor</th>\n",
              "      <th>preco</th>\n",
              "      <th>liquidez_dia</th>\n",
              "      <th>dividendo</th>\n",
              "      <th>yeld</th>\n",
              "      <th>yeld_3m_acululado</th>\n",
              "      <th>yeld_6m_acululado</th>\n",
              "      <th>yeld_12m_acululado</th>\n",
              "      <th>yeld_3m_media</th>\n",
              "      <th>yeld_6m_media</th>\n",
              "      <th>yeld_12m_media</th>\n",
              "      <th>yeld_ano</th>\n",
              "      <th>variacao_preco</th>\n",
              "      <th>rent_periodo</th>\n",
              "      <th>rent_acumulada</th>\n",
              "      <th>patrimonio_liq</th>\n",
              "      <th>vpa</th>\n",
              "      <th>p_vpa</th>\n",
              "      <th>dy_patrimonial</th>\n",
              "      <th>variacao_patrimonial</th>\n",
              "      <th>rent_patr_periodo</th>\n",
              "      <th>rent_acumulada_periodo</th>\n",
              "      <th>vacancia_fisica</th>\n",
              "      <th>vacancia_financeira</th>\n",
              "      <th>quantidade_ativos</th>\n",
              "    </tr>\n",
              "  </thead>\n",
              "  <tbody>\n",
              "    <tr>\n",
              "      <th>106</th>\n",
              "      <td>VRTA11</td>\n",
              "      <td>titulos_e_val__mob_</td>\n",
              "      <td>112.38</td>\n",
              "      <td>17785.0</td>\n",
              "      <td>0.9</td>\n",
              "      <td>0.0078</td>\n",
              "      <td>0.0235</td>\n",
              "      <td>0.0461</td>\n",
              "      <td>0.0839</td>\n",
              "      <td>0.0078</td>\n",
              "      <td>0.0077</td>\n",
              "      <td>0.007</td>\n",
              "      <td>0.0313</td>\n",
              "      <td>0.006</td>\n",
              "      <td>0.0138</td>\n",
              "      <td>0.0304</td>\n",
              "      <td>1.010653e+09</td>\n",
              "      <td>101.07</td>\n",
              "      <td>0.0111</td>\n",
              "      <td>NaN</td>\n",
              "      <td>NaN</td>\n",
              "      <td>NaN</td>\n",
              "      <td>NaN</td>\n",
              "      <td>NaN</td>\n",
              "      <td>NaN</td>\n",
              "      <td>0</td>\n",
              "    </tr>\n",
              "  </tbody>\n",
              "</table>\n",
              "</div>"
            ],
            "text/plain": [
              "      ativo                setor  ...  vacancia_financeira  quantidade_ativos\n",
              "106  VRTA11  titulos_e_val__mob_  ...                  NaN                  0\n",
              "\n",
              "[1 rows x 26 columns]"
            ]
          },
          "metadata": {
            "tags": []
          },
          "execution_count": 134
        }
      ]
    },
    {
      "cell_type": "code",
      "metadata": {
        "id": "M1wd4hgqlZVM",
        "colab": {
          "base_uri": "https://localhost:8080/",
          "height": 320
        },
        "outputId": "c002244f-4f81-427f-bf57-a7d2971642b2"
      },
      "source": [
        "df.describe()"
      ],
      "execution_count": 135,
      "outputs": [
        {
          "output_type": "execute_result",
          "data": {
            "text/html": [
              "<div>\n",
              "<style scoped>\n",
              "    .dataframe tbody tr th:only-of-type {\n",
              "        vertical-align: middle;\n",
              "    }\n",
              "\n",
              "    .dataframe tbody tr th {\n",
              "        vertical-align: top;\n",
              "    }\n",
              "\n",
              "    .dataframe thead th {\n",
              "        text-align: right;\n",
              "    }\n",
              "</style>\n",
              "<table border=\"1\" class=\"dataframe\">\n",
              "  <thead>\n",
              "    <tr style=\"text-align: right;\">\n",
              "      <th></th>\n",
              "      <th>preco</th>\n",
              "      <th>liquidez_dia</th>\n",
              "      <th>dividendo</th>\n",
              "      <th>yeld</th>\n",
              "      <th>yeld_3m_acululado</th>\n",
              "      <th>yeld_6m_acululado</th>\n",
              "      <th>yeld_12m_acululado</th>\n",
              "      <th>yeld_3m_media</th>\n",
              "      <th>yeld_6m_media</th>\n",
              "      <th>yeld_12m_media</th>\n",
              "      <th>yeld_ano</th>\n",
              "      <th>variacao_preco</th>\n",
              "      <th>rent_periodo</th>\n",
              "      <th>rent_acumulada</th>\n",
              "      <th>patrimonio_liq</th>\n",
              "      <th>vpa</th>\n",
              "      <th>p_vpa</th>\n",
              "      <th>dy_patrimonial</th>\n",
              "      <th>variacao_patrimonial</th>\n",
              "      <th>rent_patr_periodo</th>\n",
              "      <th>rent_acumulada_periodo</th>\n",
              "      <th>vacancia_fisica</th>\n",
              "      <th>vacancia_financeira</th>\n",
              "      <th>quantidade_ativos</th>\n",
              "    </tr>\n",
              "  </thead>\n",
              "  <tbody>\n",
              "    <tr>\n",
              "      <th>count</th>\n",
              "      <td>228.000000</td>\n",
              "      <td>2.280000e+02</td>\n",
              "      <td>238.000000</td>\n",
              "      <td>222.000000</td>\n",
              "      <td>222.000000</td>\n",
              "      <td>222.000000</td>\n",
              "      <td>222.000000</td>\n",
              "      <td>222.000000</td>\n",
              "      <td>222.000000</td>\n",
              "      <td>222.000000</td>\n",
              "      <td>212.000000</td>\n",
              "      <td>222.000000</td>\n",
              "      <td>222.000000</td>\n",
              "      <td>222.000000</td>\n",
              "      <td>2.380000e+02</td>\n",
              "      <td>238.000000</td>\n",
              "      <td>228.0000</td>\n",
              "      <td>4.000000</td>\n",
              "      <td>4.000000</td>\n",
              "      <td>4.000000</td>\n",
              "      <td>4.000000</td>\n",
              "      <td>116.000000</td>\n",
              "      <td>25.000000</td>\n",
              "      <td>238.000000</td>\n",
              "    </tr>\n",
              "    <tr>\n",
              "      <th>mean</th>\n",
              "      <td>519.575088</td>\n",
              "      <td>2.267750e+04</td>\n",
              "      <td>1.316261</td>\n",
              "      <td>0.007403</td>\n",
              "      <td>0.018024</td>\n",
              "      <td>0.032010</td>\n",
              "      <td>0.051234</td>\n",
              "      <td>0.006009</td>\n",
              "      <td>0.005334</td>\n",
              "      <td>0.004271</td>\n",
              "      <td>0.025496</td>\n",
              "      <td>-0.014414</td>\n",
              "      <td>-0.007442</td>\n",
              "      <td>-0.031715</td>\n",
              "      <td>5.149004e+08</td>\n",
              "      <td>662.396429</td>\n",
              "      <td>inf</td>\n",
              "      <td>0.006950</td>\n",
              "      <td>0.002075</td>\n",
              "      <td>0.009000</td>\n",
              "      <td>0.022475</td>\n",
              "      <td>0.155532</td>\n",
              "      <td>0.126372</td>\n",
              "      <td>3.331933</td>\n",
              "    </tr>\n",
              "    <tr>\n",
              "      <th>std</th>\n",
              "      <td>5642.306143</td>\n",
              "      <td>1.006695e+05</td>\n",
              "      <td>4.445995</td>\n",
              "      <td>0.024198</td>\n",
              "      <td>0.026794</td>\n",
              "      <td>0.033587</td>\n",
              "      <td>0.051449</td>\n",
              "      <td>0.008929</td>\n",
              "      <td>0.005599</td>\n",
              "      <td>0.004289</td>\n",
              "      <td>0.028759</td>\n",
              "      <td>0.103475</td>\n",
              "      <td>0.103215</td>\n",
              "      <td>0.123874</td>\n",
              "      <td>7.104465e+08</td>\n",
              "      <td>6211.667336</td>\n",
              "      <td>NaN</td>\n",
              "      <td>0.001109</td>\n",
              "      <td>0.003292</td>\n",
              "      <td>0.003562</td>\n",
              "      <td>0.004882</td>\n",
              "      <td>0.228208</td>\n",
              "      <td>0.232114</td>\n",
              "      <td>7.999150</td>\n",
              "    </tr>\n",
              "    <tr>\n",
              "      <th>min</th>\n",
              "      <td>0.780000</td>\n",
              "      <td>1.000000e+00</td>\n",
              "      <td>0.000000</td>\n",
              "      <td>0.000000</td>\n",
              "      <td>0.000000</td>\n",
              "      <td>0.000000</td>\n",
              "      <td>0.000000</td>\n",
              "      <td>0.000000</td>\n",
              "      <td>0.000000</td>\n",
              "      <td>0.000000</td>\n",
              "      <td>0.000000</td>\n",
              "      <td>-0.946500</td>\n",
              "      <td>-0.946200</td>\n",
              "      <td>-0.945900</td>\n",
              "      <td>-5.574880e+06</td>\n",
              "      <td>-7.350000</td>\n",
              "      <td>-0.0172</td>\n",
              "      <td>0.005900</td>\n",
              "      <td>0.000100</td>\n",
              "      <td>0.006500</td>\n",
              "      <td>0.016200</td>\n",
              "      <td>0.000000</td>\n",
              "      <td>0.000000</td>\n",
              "      <td>0.000000</td>\n",
              "    </tr>\n",
              "    <tr>\n",
              "      <th>25%</th>\n",
              "      <td>82.282500</td>\n",
              "      <td>2.182500e+02</td>\n",
              "      <td>0.400000</td>\n",
              "      <td>0.004100</td>\n",
              "      <td>0.009200</td>\n",
              "      <td>0.015675</td>\n",
              "      <td>0.000000</td>\n",
              "      <td>0.003050</td>\n",
              "      <td>0.002625</td>\n",
              "      <td>0.000000</td>\n",
              "      <td>0.016075</td>\n",
              "      <td>-0.022675</td>\n",
              "      <td>-0.016175</td>\n",
              "      <td>-0.050900</td>\n",
              "      <td>1.030673e+08</td>\n",
              "      <td>93.750000</td>\n",
              "      <td>0.0084</td>\n",
              "      <td>0.006200</td>\n",
              "      <td>0.000475</td>\n",
              "      <td>0.006800</td>\n",
              "      <td>0.019875</td>\n",
              "      <td>0.000000</td>\n",
              "      <td>0.000000</td>\n",
              "      <td>0.000000</td>\n",
              "    </tr>\n",
              "    <tr>\n",
              "      <th>50%</th>\n",
              "      <td>99.120000</td>\n",
              "      <td>2.483000e+03</td>\n",
              "      <td>0.630000</td>\n",
              "      <td>0.006100</td>\n",
              "      <td>0.016700</td>\n",
              "      <td>0.032400</td>\n",
              "      <td>0.055600</td>\n",
              "      <td>0.005550</td>\n",
              "      <td>0.005400</td>\n",
              "      <td>0.004600</td>\n",
              "      <td>0.022450</td>\n",
              "      <td>-0.000500</td>\n",
              "      <td>0.000400</td>\n",
              "      <td>-0.009900</td>\n",
              "      <td>2.621177e+08</td>\n",
              "      <td>99.915000</td>\n",
              "      <td>0.0097</td>\n",
              "      <td>0.006750</td>\n",
              "      <td>0.000600</td>\n",
              "      <td>0.007650</td>\n",
              "      <td>0.023350</td>\n",
              "      <td>0.057350</td>\n",
              "      <td>0.036000</td>\n",
              "      <td>1.000000</td>\n",
              "    </tr>\n",
              "    <tr>\n",
              "      <th>75%</th>\n",
              "      <td>111.545000</td>\n",
              "      <td>1.481425e+04</td>\n",
              "      <td>0.900000</td>\n",
              "      <td>0.007675</td>\n",
              "      <td>0.022200</td>\n",
              "      <td>0.043675</td>\n",
              "      <td>0.077175</td>\n",
              "      <td>0.007400</td>\n",
              "      <td>0.007275</td>\n",
              "      <td>0.006400</td>\n",
              "      <td>0.030100</td>\n",
              "      <td>0.013275</td>\n",
              "      <td>0.018775</td>\n",
              "      <td>0.023900</td>\n",
              "      <td>5.922617e+08</td>\n",
              "      <td>109.795000</td>\n",
              "      <td>0.0104</td>\n",
              "      <td>0.007500</td>\n",
              "      <td>0.002200</td>\n",
              "      <td>0.009850</td>\n",
              "      <td>0.025950</td>\n",
              "      <td>0.211000</td>\n",
              "      <td>0.123000</td>\n",
              "      <td>3.000000</td>\n",
              "    </tr>\n",
              "    <tr>\n",
              "      <th>max</th>\n",
              "      <td>85227.760000</td>\n",
              "      <td>1.336487e+06</td>\n",
              "      <td>52.740000</td>\n",
              "      <td>0.363200</td>\n",
              "      <td>0.379900</td>\n",
              "      <td>0.409600</td>\n",
              "      <td>0.452200</td>\n",
              "      <td>0.126600</td>\n",
              "      <td>0.068300</td>\n",
              "      <td>0.037700</td>\n",
              "      <td>0.392400</td>\n",
              "      <td>0.327300</td>\n",
              "      <td>0.330300</td>\n",
              "      <td>0.410700</td>\n",
              "      <td>4.852707e+09</td>\n",
              "      <td>93717.970000</td>\n",
              "      <td>inf</td>\n",
              "      <td>0.008400</td>\n",
              "      <td>0.007000</td>\n",
              "      <td>0.014200</td>\n",
              "      <td>0.027000</td>\n",
              "      <td>1.000000</td>\n",
              "      <td>1.000000</td>\n",
              "      <td>72.000000</td>\n",
              "    </tr>\n",
              "  </tbody>\n",
              "</table>\n",
              "</div>"
            ],
            "text/plain": [
              "              preco  liquidez_dia  ...  vacancia_financeira  quantidade_ativos\n",
              "count    228.000000  2.280000e+02  ...            25.000000         238.000000\n",
              "mean     519.575088  2.267750e+04  ...             0.126372           3.331933\n",
              "std     5642.306143  1.006695e+05  ...             0.232114           7.999150\n",
              "min        0.780000  1.000000e+00  ...             0.000000           0.000000\n",
              "25%       82.282500  2.182500e+02  ...             0.000000           0.000000\n",
              "50%       99.120000  2.483000e+03  ...             0.036000           1.000000\n",
              "75%      111.545000  1.481425e+04  ...             0.123000           3.000000\n",
              "max    85227.760000  1.336487e+06  ...             1.000000          72.000000\n",
              "\n",
              "[8 rows x 24 columns]"
            ]
          },
          "metadata": {
            "tags": []
          },
          "execution_count": 135
        }
      ]
    },
    {
      "cell_type": "code",
      "metadata": {
        "id": "xUfx2f2-nW90",
        "colab": {
          "base_uri": "https://localhost:8080/"
        },
        "outputId": "44326af0-b7ff-4e59-e4fd-eaae8650c08e"
      },
      "source": [
        "df.setor.unique()"
      ],
      "execution_count": 136,
      "outputs": [
        {
          "output_type": "execute_result",
          "data": {
            "text/plain": [
              "array(['shoppings', 'titulos_e_val__mob_', 'lajes_corporativas',\n",
              "       'hibrido', 'outros', 'hotel', 'residencial', 'logistica',\n",
              "       'hospital'], dtype=object)"
            ]
          },
          "metadata": {
            "tags": []
          },
          "execution_count": 136
        }
      ]
    },
    {
      "cell_type": "code",
      "metadata": {
        "id": "od848w9cnn8M"
      },
      "source": [
        "# Filtering relevant sectors\n",
        "df = df[df['setor'].isin(['shoppings', 'titulos_e_val__mob_', 'lajes_corporativas', 'hibrido', 'logistica'])].copy()"
      ],
      "execution_count": 137,
      "outputs": []
    },
    {
      "cell_type": "code",
      "metadata": {
        "id": "Sci_9X36vhR-",
        "colab": {
          "base_uri": "https://localhost:8080/"
        },
        "outputId": "17e70862-36f0-4ab3-9b9b-aa50bf9d469e"
      },
      "source": [
        "df.setor.unique()"
      ],
      "execution_count": 138,
      "outputs": [
        {
          "output_type": "execute_result",
          "data": {
            "text/plain": [
              "array(['shoppings', 'titulos_e_val__mob_', 'lajes_corporativas',\n",
              "       'hibrido', 'logistica'], dtype=object)"
            ]
          },
          "metadata": {
            "tags": []
          },
          "execution_count": 138
        }
      ]
    },
    {
      "cell_type": "code",
      "metadata": {
        "id": "6gKvjT1tv2Uu",
        "colab": {
          "base_uri": "https://localhost:8080/",
          "height": 226
        },
        "outputId": "c04a0255-f959-4c18-989e-195146e242be"
      },
      "source": [
        "df.head()"
      ],
      "execution_count": 139,
      "outputs": [
        {
          "output_type": "execute_result",
          "data": {
            "text/html": [
              "<div>\n",
              "<style scoped>\n",
              "    .dataframe tbody tr th:only-of-type {\n",
              "        vertical-align: middle;\n",
              "    }\n",
              "\n",
              "    .dataframe tbody tr th {\n",
              "        vertical-align: top;\n",
              "    }\n",
              "\n",
              "    .dataframe thead th {\n",
              "        text-align: right;\n",
              "    }\n",
              "</style>\n",
              "<table border=\"1\" class=\"dataframe\">\n",
              "  <thead>\n",
              "    <tr style=\"text-align: right;\">\n",
              "      <th></th>\n",
              "      <th>ativo</th>\n",
              "      <th>setor</th>\n",
              "      <th>preco</th>\n",
              "      <th>liquidez_dia</th>\n",
              "      <th>dividendo</th>\n",
              "      <th>yeld</th>\n",
              "      <th>yeld_3m_acululado</th>\n",
              "      <th>yeld_6m_acululado</th>\n",
              "      <th>yeld_12m_acululado</th>\n",
              "      <th>yeld_3m_media</th>\n",
              "      <th>yeld_6m_media</th>\n",
              "      <th>yeld_12m_media</th>\n",
              "      <th>yeld_ano</th>\n",
              "      <th>variacao_preco</th>\n",
              "      <th>rent_periodo</th>\n",
              "      <th>rent_acumulada</th>\n",
              "      <th>patrimonio_liq</th>\n",
              "      <th>vpa</th>\n",
              "      <th>p_vpa</th>\n",
              "      <th>dy_patrimonial</th>\n",
              "      <th>variacao_patrimonial</th>\n",
              "      <th>rent_patr_periodo</th>\n",
              "      <th>rent_acumulada_periodo</th>\n",
              "      <th>vacancia_fisica</th>\n",
              "      <th>vacancia_financeira</th>\n",
              "      <th>quantidade_ativos</th>\n",
              "    </tr>\n",
              "  </thead>\n",
              "  <tbody>\n",
              "    <tr>\n",
              "      <th>0</th>\n",
              "      <td>FIVN11</td>\n",
              "      <td>shoppings</td>\n",
              "      <td>3.09</td>\n",
              "      <td>31730.0</td>\n",
              "      <td>0.0</td>\n",
              "      <td>0.0</td>\n",
              "      <td>0.0</td>\n",
              "      <td>0.0</td>\n",
              "      <td>0.0</td>\n",
              "      <td>0.0</td>\n",
              "      <td>0.0</td>\n",
              "      <td>0.0</td>\n",
              "      <td>NaN</td>\n",
              "      <td>0.0000</td>\n",
              "      <td>0.0000</td>\n",
              "      <td>0.0000</td>\n",
              "      <td>6.483287e+07</td>\n",
              "      <td>6.89</td>\n",
              "      <td>0.0045</td>\n",
              "      <td>NaN</td>\n",
              "      <td>NaN</td>\n",
              "      <td>NaN</td>\n",
              "      <td>NaN</td>\n",
              "      <td>0.5600</td>\n",
              "      <td>NaN</td>\n",
              "      <td>1</td>\n",
              "    </tr>\n",
              "    <tr>\n",
              "      <th>1</th>\n",
              "      <td>BZLI11</td>\n",
              "      <td>titulos_e_val__mob_</td>\n",
              "      <td>14.70</td>\n",
              "      <td>44041.0</td>\n",
              "      <td>0.0</td>\n",
              "      <td>0.0</td>\n",
              "      <td>0.0</td>\n",
              "      <td>0.0</td>\n",
              "      <td>0.0</td>\n",
              "      <td>0.0</td>\n",
              "      <td>0.0</td>\n",
              "      <td>0.0</td>\n",
              "      <td>0.0</td>\n",
              "      <td>0.0068</td>\n",
              "      <td>0.0068</td>\n",
              "      <td>0.0114</td>\n",
              "      <td>4.396659e+08</td>\n",
              "      <td>11.45</td>\n",
              "      <td>0.0128</td>\n",
              "      <td>NaN</td>\n",
              "      <td>NaN</td>\n",
              "      <td>NaN</td>\n",
              "      <td>NaN</td>\n",
              "      <td>NaN</td>\n",
              "      <td>NaN</td>\n",
              "      <td>0</td>\n",
              "    </tr>\n",
              "    <tr>\n",
              "      <th>2</th>\n",
              "      <td>XTED11</td>\n",
              "      <td>lajes_corporativas</td>\n",
              "      <td>6.88</td>\n",
              "      <td>993.0</td>\n",
              "      <td>0.0</td>\n",
              "      <td>0.0</td>\n",
              "      <td>0.0</td>\n",
              "      <td>0.0</td>\n",
              "      <td>0.0</td>\n",
              "      <td>0.0</td>\n",
              "      <td>0.0</td>\n",
              "      <td>0.0</td>\n",
              "      <td>0.0</td>\n",
              "      <td>0.0110</td>\n",
              "      <td>0.0110</td>\n",
              "      <td>-0.3783</td>\n",
              "      <td>2.547264e+07</td>\n",
              "      <td>14.21</td>\n",
              "      <td>0.0048</td>\n",
              "      <td>NaN</td>\n",
              "      <td>NaN</td>\n",
              "      <td>NaN</td>\n",
              "      <td>NaN</td>\n",
              "      <td>0.0000</td>\n",
              "      <td>1.0</td>\n",
              "      <td>1</td>\n",
              "    </tr>\n",
              "    <tr>\n",
              "      <th>3</th>\n",
              "      <td>ALMI11</td>\n",
              "      <td>lajes_corporativas</td>\n",
              "      <td>1180.00</td>\n",
              "      <td>31.0</td>\n",
              "      <td>0.0</td>\n",
              "      <td>0.0</td>\n",
              "      <td>0.0</td>\n",
              "      <td>0.0</td>\n",
              "      <td>0.0</td>\n",
              "      <td>0.0</td>\n",
              "      <td>0.0</td>\n",
              "      <td>0.0</td>\n",
              "      <td>0.0</td>\n",
              "      <td>0.0227</td>\n",
              "      <td>0.0227</td>\n",
              "      <td>-0.2829</td>\n",
              "      <td>2.294239e+08</td>\n",
              "      <td>2063.59</td>\n",
              "      <td>0.0057</td>\n",
              "      <td>NaN</td>\n",
              "      <td>NaN</td>\n",
              "      <td>NaN</td>\n",
              "      <td>NaN</td>\n",
              "      <td>0.6815</td>\n",
              "      <td>NaN</td>\n",
              "      <td>1</td>\n",
              "    </tr>\n",
              "    <tr>\n",
              "      <th>4</th>\n",
              "      <td>DOMC11</td>\n",
              "      <td>lajes_corporativas</td>\n",
              "      <td>439.00</td>\n",
              "      <td>42.0</td>\n",
              "      <td>0.0</td>\n",
              "      <td>0.0</td>\n",
              "      <td>0.0</td>\n",
              "      <td>0.0</td>\n",
              "      <td>0.0</td>\n",
              "      <td>0.0</td>\n",
              "      <td>0.0</td>\n",
              "      <td>0.0</td>\n",
              "      <td>0.0</td>\n",
              "      <td>0.0435</td>\n",
              "      <td>0.0435</td>\n",
              "      <td>-0.1000</td>\n",
              "      <td>2.643518e+08</td>\n",
              "      <td>108.17</td>\n",
              "      <td>0.0406</td>\n",
              "      <td>NaN</td>\n",
              "      <td>NaN</td>\n",
              "      <td>NaN</td>\n",
              "      <td>NaN</td>\n",
              "      <td>0.2344</td>\n",
              "      <td>NaN</td>\n",
              "      <td>1</td>\n",
              "    </tr>\n",
              "  </tbody>\n",
              "</table>\n",
              "</div>"
            ],
            "text/plain": [
              "    ativo                setor  ...  vacancia_financeira  quantidade_ativos\n",
              "0  FIVN11            shoppings  ...                  NaN                  1\n",
              "1  BZLI11  titulos_e_val__mob_  ...                  NaN                  0\n",
              "2  XTED11   lajes_corporativas  ...                  1.0                  1\n",
              "3  ALMI11   lajes_corporativas  ...                  NaN                  1\n",
              "4  DOMC11   lajes_corporativas  ...                  NaN                  1\n",
              "\n",
              "[5 rows x 26 columns]"
            ]
          },
          "metadata": {
            "tags": []
          },
          "execution_count": 139
        }
      ]
    },
    {
      "cell_type": "markdown",
      "metadata": {
        "id": "IAb-ixK5yvA9"
      },
      "source": [
        ""
      ]
    },
    {
      "cell_type": "code",
      "metadata": {
        "id": "qVb1_FKO6ZhU"
      },
      "source": [
        "# Price vs net worth\n",
        "df['acceptable_pricing'] = np.where((df['p_vpa'] > 0.9) & (df['p_vpa'] < 1.1) , True, False)\n",
        "\n",
        "# Asset diversification\n",
        "diverssified_assets_conditions = [\n",
        "    # 1st Condition\n",
        "    (df['setor'].isin(['shoppings', 'lajes_corporativas', 'logistica'])) &\n",
        "    (df['quantidade_ativos'] > 5),\n",
        "    # 2st Condition\n",
        "    (df['setor'].isin(['shoppings', 'lajes_corporativas', 'logistica'])) &\n",
        "    (df['quantidade_ativos'] < 5),\n",
        "    # 3rd Condition\n",
        "    (~df['setor'].isin(['shoppings', 'lajes_corporativas', 'logistica']))\n",
        "]\n",
        "diverssified_assets_choices = [True, False, True]\n",
        "df['diverssified_assets'] = np.select(diverssified_assets_conditions, diverssified_assets_choices, default=None)\n",
        "\n",
        "# Vacancy\n",
        "df['razonably_occupied'] = np.where((df['vacancia_fisica'] < 0.1) | (df['vacancia_fisica'].isnull()) | (df['vacancia_fisica'].isnull()) , True, False)\n",
        "\n",
        "# Liquidity\n",
        "df['is_liquid'] = np.where(df['liquidez_dia'] > 20000, True, False)\n",
        "\n",
        "# dividend yield\n",
        "df['good_earnings'] = np.where(df['yeld_12m_acululado'] > 0.05, True, False)"
      ],
      "execution_count": 149,
      "outputs": []
    },
    {
      "cell_type": "code",
      "metadata": {
        "id": "D2tbViMiv-UZ"
      },
      "source": [
        "papper_acceptable_conditions = (\n",
        "    df.acceptable_pricing &\n",
        "    df.diverssified_assets &\n",
        "    df.razonably_occupied &\n",
        "    df.is_liquid &\n",
        "    df.good_earnings\n",
        ")\n",
        "df_results = df.loc[papper_acceptable_conditions].sort_values(by=['yeld_12m_acululado', 'liquidez_dia'], ascending=False)"
      ],
      "execution_count": 151,
      "outputs": []
    },
    {
      "cell_type": "markdown",
      "metadata": {
        "id": "zANqRRqafIaB"
      },
      "source": [
        "### Resultado\n",
        "*Os papéis abaixo não são recomendação de compra, mas sim estudo*."
      ]
    },
    {
      "cell_type": "code",
      "metadata": {
        "id": "Zi7hHHrADke4",
        "colab": {
          "base_uri": "https://localhost:8080/",
          "height": 69
        },
        "outputId": "00b46a33-4848-42c0-c603-e29793ce0442"
      },
      "source": [
        "df_results"
      ],
      "execution_count": 152,
      "outputs": [
        {
          "output_type": "execute_result",
          "data": {
            "text/html": [
              "<div>\n",
              "<style scoped>\n",
              "    .dataframe tbody tr th:only-of-type {\n",
              "        vertical-align: middle;\n",
              "    }\n",
              "\n",
              "    .dataframe tbody tr th {\n",
              "        vertical-align: top;\n",
              "    }\n",
              "\n",
              "    .dataframe thead th {\n",
              "        text-align: right;\n",
              "    }\n",
              "</style>\n",
              "<table border=\"1\" class=\"dataframe\">\n",
              "  <thead>\n",
              "    <tr style=\"text-align: right;\">\n",
              "      <th></th>\n",
              "      <th>ativo</th>\n",
              "      <th>setor</th>\n",
              "      <th>preco</th>\n",
              "      <th>liquidez_dia</th>\n",
              "      <th>dividendo</th>\n",
              "      <th>yeld</th>\n",
              "      <th>yeld_3m_acululado</th>\n",
              "      <th>yeld_6m_acululado</th>\n",
              "      <th>yeld_12m_acululado</th>\n",
              "      <th>yeld_3m_media</th>\n",
              "      <th>yeld_6m_media</th>\n",
              "      <th>yeld_12m_media</th>\n",
              "      <th>yeld_ano</th>\n",
              "      <th>variacao_preco</th>\n",
              "      <th>rent_periodo</th>\n",
              "      <th>rent_acumulada</th>\n",
              "      <th>patrimonio_liq</th>\n",
              "      <th>vpa</th>\n",
              "      <th>p_vpa</th>\n",
              "      <th>dy_patrimonial</th>\n",
              "      <th>variacao_patrimonial</th>\n",
              "      <th>rent_patr_periodo</th>\n",
              "      <th>rent_acumulada_periodo</th>\n",
              "      <th>vacancia_fisica</th>\n",
              "      <th>vacancia_financeira</th>\n",
              "      <th>quantidade_ativos</th>\n",
              "      <th>preco_justo</th>\n",
              "      <th>diversificacoes</th>\n",
              "      <th>ocupacao</th>\n",
              "      <th>liquidez</th>\n",
              "      <th>bons_dividendos</th>\n",
              "      <th>acceptable_pricing</th>\n",
              "      <th>diverssified_assets</th>\n",
              "      <th>razonably_occupied</th>\n",
              "      <th>is_liquid</th>\n",
              "      <th>good_earnings</th>\n",
              "    </tr>\n",
              "  </thead>\n",
              "  <tbody>\n",
              "  </tbody>\n",
              "</table>\n",
              "</div>"
            ],
            "text/plain": [
              "Empty DataFrame\n",
              "Columns: [ativo, setor, preco, liquidez_dia, dividendo, yeld, yeld_3m_acululado, yeld_6m_acululado, yeld_12m_acululado, yeld_3m_media, yeld_6m_media, yeld_12m_media, yeld_ano, variacao_preco, rent_periodo, rent_acumulada, patrimonio_liq, vpa, p_vpa, dy_patrimonial, variacao_patrimonial, rent_patr_periodo, rent_acumulada_periodo, vacancia_fisica, vacancia_financeira, quantidade_ativos, preco_justo, diversificacoes, ocupacao, liquidez, bons_dividendos, acceptable_pricing, diverssified_assets, razonably_occupied, is_liquid, good_earnings]\n",
              "Index: []"
            ]
          },
          "metadata": {
            "tags": []
          },
          "execution_count": 152
        }
      ]
    }
  ]
}